{
  "nbformat": 4,
  "nbformat_minor": 0,
  "metadata": {
    "colab": {
      "provenance": [],
      "authorship_tag": "ABX9TyNWMroP4BfRMtJ7ATVb/EFn",
      "include_colab_link": true
    },
    "kernelspec": {
      "name": "python3",
      "display_name": "Python 3"
    },
    "language_info": {
      "name": "python"
    }
  },
  "cells": [
    {
      "cell_type": "markdown",
      "metadata": {
        "id": "view-in-github",
        "colab_type": "text"
      },
      "source": [
        "<a href=\"https://colab.research.google.com/github/musharrafhamraz/Pytorch-Practice/blob/main/Untitled23.ipynb\" target=\"_parent\"><img src=\"https://colab.research.google.com/assets/colab-badge.svg\" alt=\"Open In Colab\"/></a>"
      ]
    },
    {
      "cell_type": "markdown",
      "source": [
        "## Image Classification using Pytorch"
      ],
      "metadata": {
        "id": "Lvto5oxkHGoz"
      }
    },
    {
      "cell_type": "code",
      "execution_count": 4,
      "metadata": {
        "id": "aLVD6jrjun8C"
      },
      "outputs": [],
      "source": [
        "import torch\n",
        "import torch.nn as nn\n",
        "import torch.optim as optim\n",
        "from torchvision import datasets, transforms\n",
        "from torch.utils.data import DataLoader"
      ]
    },
    {
      "cell_type": "code",
      "source": [
        "# Set device\n",
        "device = torch.device(\"cuda\" if torch.cuda.is_available() else \"cpu\")"
      ],
      "metadata": {
        "id": "XAV3hvjOxpcn"
      },
      "execution_count": 7,
      "outputs": []
    },
    {
      "cell_type": "code",
      "source": [
        "# Hyperparameters\n",
        "num_epochs = 10\n",
        "batch_size = 64\n",
        "learning_rate = 0.001\n",
        "num_classes = 10\n"
      ],
      "metadata": {
        "id": "R6-FFk1bvV_6"
      },
      "execution_count": 5,
      "outputs": []
    },
    {
      "cell_type": "code",
      "source": [
        "# Transformations for the dataset\n",
        "transform = transforms.Compose([\n",
        "    transforms.ToTensor(),\n",
        "    transforms.Normalize((0.5,), (0.5,))\n",
        "])"
      ],
      "metadata": {
        "id": "ljTOUdJHvbGX"
      },
      "execution_count": 6,
      "outputs": []
    },
    {
      "cell_type": "code",
      "source": [
        "# Load dataset (example: CIFAR-10)\n",
        "train_dataset = datasets.CIFAR10(root='./data', train=True, transform=transform, download=True)\n",
        "test_dataset = datasets.CIFAR10(root='./data', train=False, transform=transform, download=True)\n",
        "\n",
        "train_loader = DataLoader(train_dataset, batch_size=batch_size, shuffle=True)\n",
        "test_loader = DataLoader(test_dataset, batch_size=batch_size, shuffle=False)"
      ],
      "metadata": {
        "colab": {
          "base_uri": "https://localhost:8080/"
        },
        "id": "FnMH_DcGxcv7",
        "outputId": "4261c7a2-eec0-4996-c373-5b2ddbe7e97f"
      },
      "execution_count": 8,
      "outputs": [
        {
          "output_type": "stream",
          "name": "stdout",
          "text": [
            "Downloading https://www.cs.toronto.edu/~kriz/cifar-10-python.tar.gz to ./data/cifar-10-python.tar.gz\n"
          ]
        },
        {
          "output_type": "stream",
          "name": "stderr",
          "text": [
            "100%|██████████| 170M/170M [00:02<00:00, 63.7MB/s]\n"
          ]
        },
        {
          "output_type": "stream",
          "name": "stdout",
          "text": [
            "Extracting ./data/cifar-10-python.tar.gz to ./data\n",
            "Files already downloaded and verified\n"
          ]
        }
      ]
    },
    {
      "cell_type": "code",
      "source": [
        "class SimpleCNN(nn.Module):\n",
        "    def __init__(self, num_classes):\n",
        "        super(SimpleCNN, self).__init__()\n",
        "        self.conv1 = nn.Conv2d(3, 32, kernel_size=3, stride=1, padding=1)\n",
        "        self.conv2 = nn.Conv2d(32, 64, kernel_size=3, stride=1, padding=1)\n",
        "        self.pool = nn.MaxPool2d(kernel_size=2, stride=2)\n",
        "        self.relu = nn.ReLU()\n",
        "\n",
        "        # Temporary tensor to calculate flattened size\n",
        "        temp_tensor = torch.zeros((1, 3, 32, 32))\n",
        "        temp_tensor = self.pool(self.relu(self.conv2(self.relu(self.conv1(temp_tensor)))))\n",
        "        self.flatten_size = temp_tensor.numel()\n",
        "\n",
        "        self.fc1 = nn.Linear(self.flatten_size, 128)\n",
        "        self.fc2 = nn.Linear(128, num_classes)\n",
        "\n",
        "    def forward(self, x):\n",
        "        x = self.relu(self.conv1(x))\n",
        "        x = self.pool(self.relu(self.conv2(x)))\n",
        "        x = x.view(x.size(0), -1)\n",
        "        x = self.relu(self.fc1(x))\n",
        "        x = self.fc2(x)\n",
        "        return x\n"
      ],
      "metadata": {
        "id": "puM_HiGZxf94"
      },
      "execution_count": 17,
      "outputs": []
    },
    {
      "cell_type": "code",
      "source": [
        "model = SimpleCNN(num_classes=num_classes).to(device)"
      ],
      "metadata": {
        "id": "cXb5icDVxj11"
      },
      "execution_count": 18,
      "outputs": []
    },
    {
      "cell_type": "code",
      "source": [
        "# Loss and optimizer\n",
        "criterion = nn.CrossEntropyLoss()\n",
        "optimizer = optim.Adam(model.parameters(), lr=learning_rate)"
      ],
      "metadata": {
        "id": "FVtAF_r9xjyg"
      },
      "execution_count": 19,
      "outputs": []
    },
    {
      "cell_type": "code",
      "source": [
        "# Training loop\n",
        "def train_model():\n",
        "    model.train()\n",
        "    for epoch in range(num_epochs):\n",
        "        running_loss = 0.0\n",
        "        for i, (images, labels) in enumerate(train_loader):\n",
        "            images, labels = images.to(device), labels.to(device)\n",
        "\n",
        "            # Forward pass\n",
        "            outputs = model(images)\n",
        "            loss = criterion(outputs, labels)\n",
        "\n",
        "            # Backward pass and optimization\n",
        "            optimizer.zero_grad()\n",
        "            loss.backward()\n",
        "            optimizer.step()\n",
        "\n",
        "            running_loss += loss.item()\n",
        "            if (i + 1) % 100 == 0:\n",
        "                print(f\"Epoch [{epoch + 1}/{num_epochs}], Step [{i + 1}/{len(train_loader)}], Loss: {loss.item():.4f}\")"
      ],
      "metadata": {
        "id": "DG6jfRPvxjwj"
      },
      "execution_count": 20,
      "outputs": []
    },
    {
      "cell_type": "code",
      "source": [
        "# Evaluation\n",
        "def evaluate_model():\n",
        "    model.eval()\n",
        "    with torch.no_grad():\n",
        "        correct = 0\n",
        "        total = 0\n",
        "        for images, labels in test_loader:\n",
        "            images, labels = images.to(device), labels.to(device)\n",
        "            outputs = model(images)\n",
        "            _, predicted = torch.max(outputs, 1)\n",
        "            total += labels.size(0)\n",
        "            correct += (predicted == labels).sum().item()\n",
        "\n",
        "        print(f\"Accuracy: {100 * correct / total:.2f}%\")"
      ],
      "metadata": {
        "id": "eHSdmCU9xjt1"
      },
      "execution_count": 21,
      "outputs": []
    },
    {
      "cell_type": "code",
      "source": [
        "# Train and evaluate\n",
        "train_model()\n",
        "evaluate_model()"
      ],
      "metadata": {
        "colab": {
          "base_uri": "https://localhost:8080/"
        },
        "id": "QJ3gIKyyxjrE",
        "outputId": "1fc81e72-f900-4937-9d9a-c113f6940e79"
      },
      "execution_count": 22,
      "outputs": [
        {
          "output_type": "stream",
          "name": "stdout",
          "text": [
            "Epoch [1/10], Step [100/782], Loss: 1.5534\n",
            "Epoch [1/10], Step [200/782], Loss: 1.3269\n",
            "Epoch [1/10], Step [300/782], Loss: 1.4918\n",
            "Epoch [1/10], Step [400/782], Loss: 1.2102\n",
            "Epoch [1/10], Step [500/782], Loss: 1.2435\n",
            "Epoch [1/10], Step [600/782], Loss: 1.1030\n",
            "Epoch [1/10], Step [700/782], Loss: 0.8783\n",
            "Epoch [2/10], Step [100/782], Loss: 0.8386\n",
            "Epoch [2/10], Step [200/782], Loss: 0.8797\n",
            "Epoch [2/10], Step [300/782], Loss: 1.0259\n",
            "Epoch [2/10], Step [400/782], Loss: 0.8259\n",
            "Epoch [2/10], Step [500/782], Loss: 0.6668\n",
            "Epoch [2/10], Step [600/782], Loss: 0.7777\n",
            "Epoch [2/10], Step [700/782], Loss: 0.6603\n",
            "Epoch [3/10], Step [100/782], Loss: 0.7148\n",
            "Epoch [3/10], Step [200/782], Loss: 0.4488\n",
            "Epoch [3/10], Step [300/782], Loss: 0.5985\n",
            "Epoch [3/10], Step [400/782], Loss: 0.8355\n",
            "Epoch [3/10], Step [500/782], Loss: 0.8886\n",
            "Epoch [3/10], Step [600/782], Loss: 0.7888\n",
            "Epoch [3/10], Step [700/782], Loss: 0.5664\n",
            "Epoch [4/10], Step [100/782], Loss: 0.3048\n",
            "Epoch [4/10], Step [200/782], Loss: 0.5588\n",
            "Epoch [4/10], Step [300/782], Loss: 0.5838\n",
            "Epoch [4/10], Step [400/782], Loss: 0.6656\n",
            "Epoch [4/10], Step [500/782], Loss: 0.2643\n",
            "Epoch [4/10], Step [600/782], Loss: 0.5996\n",
            "Epoch [4/10], Step [700/782], Loss: 0.3385\n",
            "Epoch [5/10], Step [100/782], Loss: 0.3826\n",
            "Epoch [5/10], Step [200/782], Loss: 0.2334\n",
            "Epoch [5/10], Step [300/782], Loss: 0.4178\n",
            "Epoch [5/10], Step [400/782], Loss: 0.3398\n",
            "Epoch [5/10], Step [500/782], Loss: 0.4619\n",
            "Epoch [5/10], Step [600/782], Loss: 0.3787\n",
            "Epoch [5/10], Step [700/782], Loss: 0.4468\n",
            "Epoch [6/10], Step [100/782], Loss: 0.1483\n",
            "Epoch [6/10], Step [200/782], Loss: 0.1557\n",
            "Epoch [6/10], Step [300/782], Loss: 0.1727\n",
            "Epoch [6/10], Step [400/782], Loss: 0.2751\n",
            "Epoch [6/10], Step [500/782], Loss: 0.1804\n",
            "Epoch [6/10], Step [600/782], Loss: 0.2076\n",
            "Epoch [6/10], Step [700/782], Loss: 0.1852\n",
            "Epoch [7/10], Step [100/782], Loss: 0.0692\n",
            "Epoch [7/10], Step [200/782], Loss: 0.1290\n",
            "Epoch [7/10], Step [300/782], Loss: 0.0674\n",
            "Epoch [7/10], Step [400/782], Loss: 0.0638\n",
            "Epoch [7/10], Step [500/782], Loss: 0.0832\n",
            "Epoch [7/10], Step [600/782], Loss: 0.0560\n",
            "Epoch [7/10], Step [700/782], Loss: 0.1640\n",
            "Epoch [8/10], Step [100/782], Loss: 0.0766\n",
            "Epoch [8/10], Step [200/782], Loss: 0.0525\n",
            "Epoch [8/10], Step [300/782], Loss: 0.0162\n",
            "Epoch [8/10], Step [400/782], Loss: 0.0971\n",
            "Epoch [8/10], Step [500/782], Loss: 0.0792\n",
            "Epoch [8/10], Step [600/782], Loss: 0.0913\n",
            "Epoch [8/10], Step [700/782], Loss: 0.0664\n",
            "Epoch [9/10], Step [100/782], Loss: 0.0433\n",
            "Epoch [9/10], Step [200/782], Loss: 0.0156\n",
            "Epoch [9/10], Step [300/782], Loss: 0.0466\n",
            "Epoch [9/10], Step [400/782], Loss: 0.0651\n",
            "Epoch [9/10], Step [500/782], Loss: 0.1801\n",
            "Epoch [9/10], Step [600/782], Loss: 0.1326\n",
            "Epoch [9/10], Step [700/782], Loss: 0.0530\n",
            "Epoch [10/10], Step [100/782], Loss: 0.0499\n",
            "Epoch [10/10], Step [200/782], Loss: 0.0133\n",
            "Epoch [10/10], Step [300/782], Loss: 0.1222\n",
            "Epoch [10/10], Step [400/782], Loss: 0.0375\n",
            "Epoch [10/10], Step [500/782], Loss: 0.0646\n",
            "Epoch [10/10], Step [600/782], Loss: 0.0163\n",
            "Epoch [10/10], Step [700/782], Loss: 0.0437\n",
            "Accuracy: 67.41%\n"
          ]
        }
      ]
    },
    {
      "cell_type": "code",
      "source": [],
      "metadata": {
        "id": "EImLIbosxjoS"
      },
      "execution_count": null,
      "outputs": []
    },
    {
      "cell_type": "code",
      "source": [],
      "metadata": {
        "id": "1vwvceRlxjdk"
      },
      "execution_count": null,
      "outputs": []
    }
  ]
}